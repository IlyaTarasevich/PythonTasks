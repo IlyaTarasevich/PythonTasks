{
 "cells": [
  {
   "cell_type": "markdown",
   "id": "d3df79dd",
   "metadata": {},
   "source": [
    "## Упражнения по библиотеке Numpy"
   ]
  },
  {
   "cell_type": "code",
   "execution_count": 3,
   "id": "76b9c43b",
   "metadata": {},
   "outputs": [],
   "source": [
    "import numpy as np"
   ]
  },
  {
   "cell_type": "markdown",
   "id": "9ff5f5fe",
   "metadata": {},
   "source": [
    "**1.** Дан случайный массив, поменять знак у элементов, значения которых между 3 и 8"
   ]
  },
  {
   "cell_type": "code",
   "execution_count": 67,
   "id": "b89a7523",
   "metadata": {},
   "outputs": [
    {
     "name": "stdout",
     "output_type": "stream",
     "text": [
      "[ 0  1  2  3 -4 -5 -6 -7  8  9 10 11 12 13 14]\n"
     ]
    }
   ],
   "source": [
    "a = np.arange(15)\n",
    "a[(a > 3) & (a < 8)] *= -1\n",
    "print(a)\n"
   ]
  },
  {
   "cell_type": "markdown",
   "id": "5fa4abda",
   "metadata": {},
   "source": [
    "**2.** Заменить максимальный элемент случайного массива на 0"
   ]
  },
  {
   "cell_type": "code",
   "execution_count": 70,
   "id": "f2788a6e",
   "metadata": {},
   "outputs": [
    {
     "name": "stdout",
     "output_type": "stream",
     "text": [
      "[5 1 4 0 5 2 2 9 6 3 7 0 5 2 6 5 9 9 3 0]\n"
     ]
    }
   ],
   "source": [
    "a = np.random.randint(0,10,20)\n",
    "a[a.argmax()] = 0\n",
    "print(a)"
   ]
  },
  {
   "cell_type": "markdown",
   "id": "3cac656b",
   "metadata": {},
   "source": [
    "**3.** Построить прямое произведение массивов (все комбинации с каждым элементом). На вход подается двумерный массив"
   ]
  },
  {
   "cell_type": "code",
   "execution_count": 79,
   "id": "3396b764",
   "metadata": {},
   "outputs": [
    {
     "name": "stdout",
     "output_type": "stream",
     "text": [
      "[[ 1  3  5  7]\n",
      " [ 1  2  3  4]\n",
      " [ 1  4  7 10]]\n",
      "[[ 1  1  1]\n",
      " [ 1  1  4]\n",
      " [ 1  1  7]\n",
      " [ 1  1 10]\n",
      " [ 1  2  1]\n",
      " [ 1  2  4]\n",
      " [ 1  2  7]\n",
      " [ 1  2 10]\n",
      " [ 1  3  1]\n",
      " [ 1  3  4]\n",
      " [ 1  3  7]\n",
      " [ 1  3 10]\n",
      " [ 1  4  1]\n",
      " [ 1  4  4]\n",
      " [ 1  4  7]\n",
      " [ 1  4 10]\n",
      " [ 3  1  1]\n",
      " [ 3  1  4]\n",
      " [ 3  1  7]\n",
      " [ 3  1 10]\n",
      " [ 3  2  1]\n",
      " [ 3  2  4]\n",
      " [ 3  2  7]\n",
      " [ 3  2 10]\n",
      " [ 3  3  1]\n",
      " [ 3  3  4]\n",
      " [ 3  3  7]\n",
      " [ 3  3 10]\n",
      " [ 3  4  1]\n",
      " [ 3  4  4]\n",
      " [ 3  4  7]\n",
      " [ 3  4 10]\n",
      " [ 5  1  1]\n",
      " [ 5  1  4]\n",
      " [ 5  1  7]\n",
      " [ 5  1 10]\n",
      " [ 5  2  1]\n",
      " [ 5  2  4]\n",
      " [ 5  2  7]\n",
      " [ 5  2 10]\n",
      " [ 5  3  1]\n",
      " [ 5  3  4]\n",
      " [ 5  3  7]\n",
      " [ 5  3 10]\n",
      " [ 5  4  1]\n",
      " [ 5  4  4]\n",
      " [ 5  4  7]\n",
      " [ 5  4 10]\n",
      " [ 7  1  1]\n",
      " [ 7  1  4]\n",
      " [ 7  1  7]\n",
      " [ 7  1 10]\n",
      " [ 7  2  1]\n",
      " [ 7  2  4]\n",
      " [ 7  2  7]\n",
      " [ 7  2 10]\n",
      " [ 7  3  1]\n",
      " [ 7  3  4]\n",
      " [ 7  3  7]\n",
      " [ 7  3 10]\n",
      " [ 7  4  1]\n",
      " [ 7  4  4]\n",
      " [ 7  4  7]\n",
      " [ 7  4 10]]\n"
     ]
    }
   ],
   "source": [
    "a=[[1,3,5,7],[1,2,3,4],[1,4,7,10]]\n",
    "arr = np.asarray(a)\n",
    "print(arr)\n",
    "shp = map(len, arr)\n",
    "res = np.indices(shp, dtype=int)\n",
    "res = res.reshape(len(arr), -1).T\n",
    "for n, arr in enumerate(arr):\n",
    "   res[:, n] = arr[n][res[:, n]]\n",
    "print(res)\n"
   ]
  },
  {
   "cell_type": "markdown",
   "id": "674c9354",
   "metadata": {},
   "source": [
    "**4.** Даны 2 массива A (8x3) и B (2x2). Найти строки в A, которые содержат элементы из каждой строки в B, независимо от порядка элементов в B"
   ]
  },
  {
   "cell_type": "code",
   "execution_count": 87,
   "id": "cb664782",
   "metadata": {},
   "outputs": [
    {
     "name": "stdout",
     "output_type": "stream",
     "text": [
      "[[5 6 9]\n",
      " [3 1 0]\n",
      " [8 2 0]\n",
      " [9 4 1]\n",
      " [4 9 2]\n",
      " [2 1 6]\n",
      " [7 8 7]\n",
      " [4 9 7]]\n",
      "[[6 2]\n",
      " [4 0]]\n",
      "[2 4 5]\n"
     ]
    }
   ],
   "source": [
    "a=np.random.randint(0,10,(8,3))\n",
    "print(a)\n",
    "b=np.random.randint(0,10,(2,2))\n",
    "print(b)\n",
    "c=(a[...,np.newaxis,np.newaxis]==b)\n",
    "res = (c.sum(axis=(1,2,3)) >= b.shape[1]).nonzero()[0]\n",
    "print(res)"
   ]
  },
  {
   "cell_type": "markdown",
   "id": "fa46533b",
   "metadata": {},
   "source": [
    "**5.** Дана 10x3 матрица, найти строки из неравных значений (например строка [2,2,3] остается, строка [3,3,3] удаляется)"
   ]
  },
  {
   "cell_type": "code",
   "execution_count": 99,
   "id": "fa545b23",
   "metadata": {},
   "outputs": [
    {
     "name": "stdout",
     "output_type": "stream",
     "text": [
      "[[1 1 1]\n",
      " [0 1 1]\n",
      " [0 1 1]\n",
      " [1 1 1]\n",
      " [0 1 1]\n",
      " [0 1 1]\n",
      " [0 1 0]\n",
      " [1 0 1]\n",
      " [1 0 0]\n",
      " [0 1 0]]\n",
      "[[0 1 1]\n",
      " [0 1 1]\n",
      " [0 1 1]\n",
      " [0 1 1]\n",
      " [0 1 0]\n",
      " [1 0 1]\n",
      " [1 0 0]\n",
      " [0 1 0]]\n"
     ]
    }
   ],
   "source": [
    "a = np.random.randint(0,2,(10,3))\n",
    "b = np.logical_and.reduce(a[:,1:] == a[:,:-1], axis=1)\n",
    "res = a[~b]\n",
    "print(a)\n",
    "print(res)"
   ]
  },
  {
   "cell_type": "markdown",
   "id": "28f0d116",
   "metadata": {},
   "source": [
    "**6.** Дан двумерный массив. Удалить те строки, которые повторяются"
   ]
  },
  {
   "cell_type": "code",
   "execution_count": 4,
   "id": "83d2c0b7",
   "metadata": {},
   "outputs": [
    {
     "name": "stdout",
     "output_type": "stream",
     "text": [
      "[[1 0 0]\n",
      " [1 1 1]\n",
      " [0 1 1]\n",
      " [1 0 0]\n",
      " [0 0 1]\n",
      " [0 0 1]]\n",
      "[[0 0 1]\n",
      " [0 1 1]\n",
      " [1 0 0]\n",
      " [1 1 1]]\n"
     ]
    }
   ],
   "source": [
    "a = np.random.randint(0, 2, (6,3))\n",
    "print(a)\n",
    "b = np.ascontiguousarray(a).view(np.dtype((np.void,a.dtype.itemsize*a.shape[1])))\n",
    "_, c = np.unique(b, return_index=True)\n",
    "res = a[c]\n",
    "print(res)"
   ]
  },
  {
   "cell_type": "markdown",
   "id": "6daa9e37",
   "metadata": {},
   "source": [
    "______\n",
    "______"
   ]
  },
  {
   "cell_type": "markdown",
   "id": "cfbfcaff",
   "metadata": {},
   "source": [
    "Для каждой из следующих задач (1-5) нужно привести 2 реализации – одна без использования numpy (cчитайте, что там, где на входе или выходе должны быть numpy array, будут просто списки), а вторая полностью векторизованная с использованием numpy (без использования питоновских циклов/map/list comprehension).\n",
    "\n",
    "\n",
    "__Замечание 1.__ Можно считать, что все указанные объекты непустые (к примеру, в __задаче 1__ на диагонали матрицы есть ненулевые элементы).\n",
    "\n",
    "__Замечание 2.__ Для большинства задач решение занимает не больше 1-2 строк."
   ]
  },
  {
   "cell_type": "markdown",
   "id": "673cac7f",
   "metadata": {},
   "source": [
    "___"
   ]
  },
  {
   "cell_type": "markdown",
   "id": "ca6f585e",
   "metadata": {},
   "source": [
    "* __Задача 1__: Подсчитать произведение ненулевых элементов на диагонали прямоугольной матрицы.  \n",
    " Например, для X = np.array([[1, 0, 1], [2, 0, 2], [3, 0, 3], [4, 4, 4]]) ответ 3."
   ]
  },
  {
   "cell_type": "code",
   "execution_count": 4,
   "id": "065862fc",
   "metadata": {},
   "outputs": [
    {
     "name": "stdout",
     "output_type": "stream",
     "text": [
      "3\n",
      "\n",
      "res\n",
      "3\n"
     ]
    }
   ],
   "source": [
    "x = np.array([[1, 0, 1], [2, 0, 2], [3, 0, 3], [4, 4, 4]])\n",
    "print(np.prod(np.diag(x)[np.diag(x)!=0]))\n",
    "print()\n",
    "a=1\n",
    "for i in range(len(x)):\n",
    "    for j in range(len(x[i])):\n",
    "        if i == j:\n",
    "            #print('a')\n",
    "            #print (x[i][j])\n",
    "            if x[i][j] != 0:\n",
    "                #print('b')\n",
    "                #print (x[i][j])\n",
    "                a= a*(x[i][j])\n",
    "                #print(a)\n",
    "print('res')                \n",
    "print(a)"
   ]
  },
  {
   "cell_type": "markdown",
   "id": "9fc51d41",
   "metadata": {},
   "source": [
    "* __Задача 2__: Даны два вектора x и y. Проверить, задают ли они одно и то же мультимножество.  \n",
    "  Например, для x = np.array([1, 2, 2, 4]), y = np.array([4, 2, 1, 2]) ответ True."
   ]
  },
  {
   "cell_type": "code",
   "execution_count": 5,
   "id": "a809e02f",
   "metadata": {},
   "outputs": [
    {
     "name": "stdout",
     "output_type": "stream",
     "text": [
      "True\n",
      "true\n"
     ]
    }
   ],
   "source": [
    "# your code\n",
    "x = np.array([1, 2, 2, 4])\n",
    "y = np.array([4, 2, 1, 2]) \n",
    "print(np.isin(x,y).all())\n",
    "\n",
    "x = ([1, 2, 2, 4])\n",
    "y = ([4, 2, 1, 2])\n",
    "for i in x:\n",
    "    y.remove(i)\n",
    "if y == []:\n",
    "    a = 'true'\n",
    "else:\n",
    "    a = 'false'\n",
    "\n",
    "print(a)"
   ]
  },
  {
   "cell_type": "markdown",
   "id": "b9c185c7",
   "metadata": {},
   "source": [
    "* __Задача 3__: Найти максимальный элемент в векторе x среди элементов, перед которыми стоит ноль. \n",
    " Например, для x = np.array([6, 2, 0, 3, 0, 0, 5, 7, 0]) ответ 5."
   ]
  },
  {
   "cell_type": "code",
   "execution_count": 6,
   "id": "b57df008",
   "metadata": {},
   "outputs": [
    {
     "name": "stdout",
     "output_type": "stream",
     "text": [
      "5\n",
      "5\n"
     ]
    }
   ],
   "source": [
    "# your code\n",
    "x = np.array([6, 2, 0, 3, 0, 0, 5, 7, 0])\n",
    "print(np.max(x[1:][(x==0)[:-1]]))\n",
    "\n",
    "x =([6, 2, 0, 3, 0, 0, 5, 7, 0])\n",
    "a = 0\n",
    "for i in range(1, len(x)):\n",
    "    if x[i-1] == 0:\n",
    "        if x[i] > a:\n",
    "            a = x[i]\n",
    "print(a)"
   ]
  },
  {
   "cell_type": "markdown",
   "id": "480be4ce",
   "metadata": {},
   "source": [
    "* __Задача 4__: Реализовать кодирование длин серий (Run-length encoding). Для некоторого вектора x необходимо вернуть кортеж из двух векторов одинаковой длины. Первый содержит числа, а второй - сколько раз их нужно повторить.  \n",
    " Например, для x = np.array([2, 2, 2, 3, 3, 3, 5]) ответ (np.array([2, 3, 5]), np.array([3, 3, 1]))."
   ]
  },
  {
   "cell_type": "code",
   "execution_count": 83,
   "id": "3c592124",
   "metadata": {},
   "outputs": [
    {
     "name": "stdout",
     "output_type": "stream",
     "text": [
      "[2 3 5]\n",
      "[3 3 1]\n",
      "2 1\n",
      "2 2\n",
      "2 3\n",
      "3 1\n",
      "3 2\n",
      "3 3\n",
      "5 1\n",
      "[2, 3, 5]\n",
      "[3, 3, 1]\n"
     ]
    }
   ],
   "source": [
    "# your code\n",
    "x = np.array([2, 2, 2, 3, 3, 3, 5]) \n",
    "a = x.shape[0]\n",
    "if a != 0:\n",
    "    loc_run_start = np.empty(a, dtype=bool)\n",
    "    run_starts = np.nonzero(loc_run_start)[0]\n",
    "    run_values = x[loc_run_start]\n",
    "    run_lengths = np.diff(np.append(run_starts, a))\n",
    "    print(run_values)\n",
    "    print(run_lengths)\n",
    "\n",
    "x = ([2, 2, 2, 3, 3, 3, 5])\n",
    "count = 0\n",
    "b=[]\n",
    "c=[]\n",
    "for i in range(0, len(x)):\n",
    "    if i == 0:\n",
    "        count = 1\n",
    "        b.append(x[i])\n",
    "        #print(x[i], count)\n",
    "    else:\n",
    "        if x[i]== x[i-1]:\n",
    "            count = count +1\n",
    "            #print(x[i], count)\n",
    "        else:\n",
    "            c.append(count)\n",
    "            count = 1\n",
    "            b.append(x[i])\n",
    "            #print(x[i], count)\n",
    "            if i == len(x)-1:\n",
    "                c.append(count)\n",
    "print(b)\n",
    "print(c)\n",
    "        \n"
   ]
  },
  {
   "cell_type": "markdown",
   "id": "077532ec",
   "metadata": {},
   "source": [
    "* __Задача 5__: Даны две выборки объектов - X и Y. Вычислить матрицу евклидовых расстояний между объектами. Сравните с функцией scipy.spatial.distance.cdist по скорости работы."
   ]
  },
  {
   "cell_type": "code",
   "execution_count": 92,
   "id": "1e807797",
   "metadata": {},
   "outputs": [
    {
     "name": "stdout",
     "output_type": "stream",
     "text": [
      "[0.75948655 0.76052219 0.39331522 1.02956514 1.10270003 0.62727024\n",
      " 1.15665164 0.657766   1.26333168 1.09234984]\n",
      "[[0.75948655]\n",
      " [0.76052219]\n",
      " [0.39331522]\n",
      " [1.02956514]\n",
      " [1.10270003]\n",
      " [0.62727024]\n",
      " [1.15665164]\n",
      " [0.657766  ]\n",
      " [1.26333168]\n",
      " [1.09234984]]\n"
     ]
    }
   ],
   "source": [
    "# your code\n",
    "import scipy.spatial.distance\n",
    "\n",
    "a = np.array([[1,1,1]])\n",
    "b = np.random.rand(10,3)\n",
    "dist = np.linalg.norm(a - b, axis = 1)\n",
    "print(dist)\n",
    "\n",
    "distances = scipy.spatial.distance.cdist(b, a, metric='euclidean')\n",
    "print(distances)"
   ]
  },
  {
   "cell_type": "markdown",
   "id": "973e8064",
   "metadata": {},
   "source": [
    "_______\n",
    "________"
   ]
  },
  {
   "cell_type": "markdown",
   "id": "1104acb7",
   "metadata": {},
   "source": [
    "* #### __Задача 6__: CrunchieMunchies __*__\n",
    "\n",
    "Вы работаете в отделе маркетинга пищевой компании MyCrunch, которая разрабатывает новый вид вкусных, полезных злаков под названием **CrunchieMunchies**.\n",
    "\n",
    "Вы хотите продемонстрировать потребителям, насколько полезны ваши хлопья по сравнению с другими ведущими брендами, поэтому вы собрали данные о питании нескольких разных конкурентов.\n",
    "\n",
    "Ваша задача - использовать вычисления Numpy для анализа этих данных и доказать, что ваши **СrunchieMunchies** - самый здоровый выбор для потребителей.\n"
   ]
  },
  {
   "cell_type": "code",
   "execution_count": 77,
   "id": "10a77f8d",
   "metadata": {},
   "outputs": [],
   "source": [
    "import numpy as np"
   ]
  },
  {
   "cell_type": "markdown",
   "id": "ab87cb03",
   "metadata": {},
   "source": [
    "1. Просмотрите файл cereal.csv. Этот файл содержит количества калорий для различных марок хлопьев. Загрузите данные из файла и сохраните их как calorie_stats."
   ]
  },
  {
   "cell_type": "code",
   "execution_count": 94,
   "id": "9681ebf2",
   "metadata": {},
   "outputs": [
    {
     "data": {
      "text/plain": [
       "array([ 70., 120.,  70.,  50., 110., 110., 110., 130.,  90.,  90., 120.,\n",
       "       110., 120., 110., 110., 110., 100., 110., 110., 110., 100., 110.,\n",
       "       100., 100., 110., 110., 100., 120., 120., 110., 100., 110., 100.,\n",
       "       110., 120., 120., 110., 110., 110., 140., 110., 100., 110., 100.,\n",
       "       150., 150., 160., 100., 120., 140.,  90., 130., 120., 100.,  50.,\n",
       "        50., 100., 100., 120., 100.,  90., 110., 110.,  80.,  90.,  90.,\n",
       "       110., 110.,  90., 110., 140., 100., 110., 110., 100., 100., 110.])"
      ]
     },
     "execution_count": 94,
     "metadata": {},
     "output_type": "execute_result"
    }
   ],
   "source": [
    "calorie_stats = np.loadtxt(\"D:/Prog/Innowise/pandas_numpy_tasks/data/cereal.csv\", delimiter=\",\") #захардкодил путь\n",
    "calorie_stats"
   ]
  },
  {
   "cell_type": "markdown",
   "id": "139cfbd8",
   "metadata": {},
   "source": [
    "2. В одной порции CrunchieMunchies содержится 60 калорий. Насколько выше среднее количество калорий у ваших конкурентов?\n",
    "\n",
    "Сохраните ответ в переменной average_calories и распечатайте переменную в терминале"
   ]
  },
  {
   "cell_type": "code",
   "execution_count": 96,
   "id": "7036d240",
   "metadata": {},
   "outputs": [
    {
     "name": "stdout",
     "output_type": "stream",
     "text": [
      "106.88311688311688\n",
      "46.883116883116884\n"
     ]
    }
   ],
   "source": [
    "average_calories = np.mean(calorie_stats)\n",
    "print(average_calories)\n",
    "calories_high = average_calories - 60\n",
    "print(calories_high)"
   ]
  },
  {
   "cell_type": "markdown",
   "id": "b2ddb4cd",
   "metadata": {},
   "source": [
    "3. Корректно ли среднее количество калорий отражает распределение набора данных? Давайте отсортируем данные и посмотрим.\n",
    "\n",
    "Отсортируйте данные и сохраните результат в переменной calorie_stats_sorted. Распечатайте отсортированную информацию"
   ]
  },
  {
   "cell_type": "code",
   "execution_count": 97,
   "id": "46eeb4ed",
   "metadata": {},
   "outputs": [
    {
     "name": "stdout",
     "output_type": "stream",
     "text": [
      "[ 50.  50.  50.  70.  70.  80.  90.  90.  90.  90.  90.  90.  90. 100.\n",
      " 100. 100. 100. 100. 100. 100. 100. 100. 100. 100. 100. 100. 100. 100.\n",
      " 100. 100. 110. 110. 110. 110. 110. 110. 110. 110. 110. 110. 110. 110.\n",
      " 110. 110. 110. 110. 110. 110. 110. 110. 110. 110. 110. 110. 110. 110.\n",
      " 110. 110. 110. 120. 120. 120. 120. 120. 120. 120. 120. 120. 120. 130.\n",
      " 130. 140. 140. 140. 150. 150. 160.]\n"
     ]
    }
   ],
   "source": [
    "# your code\n",
    "calorie_stats_sorted = np.sort(calorie_stats)\n",
    "print(calorie_stats_sorted)"
   ]
  },
  {
   "cell_type": "markdown",
   "id": "4dc74116",
   "metadata": {},
   "source": [
    "4. Похоже, что большинство значений выше среднего. Давайте посмотрим, является ли медиана наиболее корректным показателем набора данных.\n",
    "\n",
    "Вычислите медиану набора данных и сохраните свой ответ в median_calories. Выведите медиану, чтобы вы могли видеть, как она сравнивается со средним значением."
   ]
  },
  {
   "cell_type": "code",
   "execution_count": 98,
   "id": "b56627c3",
   "metadata": {},
   "outputs": [
    {
     "name": "stdout",
     "output_type": "stream",
     "text": [
      "110.0\n"
     ]
    }
   ],
   "source": [
    "# your code\n",
    "median_calories = np.median(calorie_stats_sorted)\n",
    "print(median_calories)"
   ]
  },
  {
   "cell_type": "markdown",
   "id": "a63ab72f",
   "metadata": {},
   "source": [
    "5. В то время как медиана показывает, что по крайней мере половина наших значений составляет более 100 калорий, было бы более впечатляюще показать, что значительная часть конкурентов имеет более высокое количество калорий, чем CrunchieMunchies.\n",
    "\n",
    "Рассчитайте различные процентили и распечатайте их, пока не найдете наименьший процентиль, превышающий 60 калорий. Сохраните это значение в переменной nth_percentile."
   ]
  },
  {
   "cell_type": "code",
   "execution_count": 113,
   "id": "fe80ce03",
   "metadata": {},
   "outputs": [
    {
     "name": "stdout",
     "output_type": "stream",
     "text": [
      "60.007999999999996\n"
     ]
    }
   ],
   "source": [
    "# your code\n",
    "nth_percentile = np.percentile(calorie_stats_sorted,3.29)\n",
    "print(nth_percentile)"
   ]
  },
  {
   "cell_type": "markdown",
   "id": "a2a3c5aa",
   "metadata": {},
   "source": [
    "6. Хотя процентиль показывает нам, что у большинства конкурентов количество калорий намного выше, это неудобная концепция для использования в маркетинговых материалах.\n",
    "\n",
    "Вместо этого давайте подсчитаем процент хлопьев, в которых содержится более 60 калорий на порцию. Сохраните свой ответ в переменной more_calories и распечатайте его"
   ]
  },
  {
   "cell_type": "code",
   "execution_count": 114,
   "id": "ade0f6ea",
   "metadata": {},
   "outputs": [
    {
     "name": "stdout",
     "output_type": "stream",
     "text": [
      "96.1038961038961\n"
     ]
    }
   ],
   "source": [
    "# your code\n",
    "more_calories = len(calorie_stats_sorted[calorie_stats_sorted>60])/len(calorie_stats_sorted)*100\n",
    "print(more_calories)"
   ]
  },
  {
   "cell_type": "markdown",
   "id": "1735d65b",
   "metadata": {},
   "source": [
    "7. Это действительно высокий процент. Это будет очень полезно, когда мы будем продвигать CrunchieMunchies. Но один вопрос заключается в том, насколько велики различия в наборе данных? Можем ли мы сделать обобщение, что в большинстве злаков содержится около 100 калорий или разброс еще больше?\n",
    "\n",
    "Рассчитайте величину отклонения, найдя стандартное отклонение, Сохраните свой ответ в calorie_std и распечатайте на терминале. Как мы можем включить эту ценность в наш анализ?"
   ]
  },
  {
   "cell_type": "code",
   "execution_count": 120,
   "id": "85c8df1f",
   "metadata": {},
   "outputs": [
    {
     "name": "stdout",
     "output_type": "stream",
     "text": [
      "19.35718533390827\n",
      "19.35718533390827\n"
     ]
    }
   ],
   "source": [
    "# your code\n",
    "calorie_std = np.std(calorie_stats_sorted)\n",
    "print(calorie_std)\n",
    "calorie_std2 = np.std(calorie_stats)\n",
    "print(calorie_std2)\n"
   ]
  },
  {
   "cell_type": "markdown",
   "id": "037455c5",
   "metadata": {},
   "source": [
    "8. Напишите короткий абзац, в котором кратко изложите свои выводы и то, как, по вашему мнению, эти данные могут быть использованы в интересах Mycrunch при маркетинге CrunchieMunchies."
   ]
  },
  {
   "cell_type": "code",
   "execution_count": 167,
   "id": "c260fee9",
   "metadata": {},
   "outputs": [],
   "source": [
    "# your code\n",
    "#во-первых, эти данные прекоассно показывают, что продукция нашей компании - на много менее колорийная, чем у конкурентов\n",
    "#во-вторых, мы можем понять какой процент продукции и какие бренды конкурентов могут конкурировать (пардон за тавтологию)\n",
    "#с нашим новым продуктом.\n"
   ]
  }
 ],
 "metadata": {
  "kernelspec": {
   "display_name": "Python 3",
   "language": "python",
   "name": "python3"
  },
  "language_info": {
   "codemirror_mode": {
    "name": "ipython",
    "version": 3
   },
   "file_extension": ".py",
   "mimetype": "text/x-python",
   "name": "python",
   "nbconvert_exporter": "python",
   "pygments_lexer": "ipython3",
   "version": "3.8.8"
  }
 },
 "nbformat": 4,
 "nbformat_minor": 5
}
